{
 "cells": [
  {
   "cell_type": "code",
   "execution_count": 1,
   "metadata": {},
   "outputs": [],
   "source": [
    "import pandas as pd\n",
    "import numpy as np\n",
    "import re\n",
    "import os\n",
    "\n",
    "from itertools import chain\n",
    "from collections import Counter"
   ]
  },
  {
   "cell_type": "code",
   "execution_count": 2,
   "metadata": {},
   "outputs": [],
   "source": [
    "from preprocessing.basic_preprocessing import *"
   ]
  },
  {
   "cell_type": "markdown",
   "metadata": {
    "jp-MarkdownHeadingCollapsed": true,
    "tags": []
   },
   "source": [
    "# 1. 요주의 인물 파악하기"
   ]
  },
  {
   "cell_type": "code",
   "execution_count": 3,
   "metadata": {},
   "outputs": [],
   "source": [
    "def data_concat(user_info, user_detail):\n",
    "    user_info_df = pd.DataFrame(columns=[\"server\", \"user_info_url\", \"user\"])\n",
    "\n",
    "    for user_info_path in os.listdir(user_info):\n",
    "        temp = pd.read_csv(os.path.join(user_info, user_info_path))\n",
    "        user_info_df = pd.concat([user_info_df, temp])\n",
    "\n",
    "    user_info_df.columns = [\"server\", \"user_info_url\", \"nickname\"]\n",
    "\n",
    "    user_detail_df = pd.DataFrame(columns=['nickname', 'codi-hat', 'codi-hair', 'codi-face', 'codi-top',\n",
    "                                           'codi-bottom', 'codi-shoes', 'codi-weapon', 'level', 'class',\n",
    "                                           'popularity', 'total_ranking', 'world_ranking', 'class_world_ranking',\n",
    "                                           'class_total_ranking', 'guild', 'last_access', 'mureung', 'theseed',\n",
    "                                           'union', 'achievement', 'cur_chr', 'past_chr_img_1', 'past_chr_img_2',\n",
    "                                           'past_chr_img_3', 'past_chr_img_4', 'past_chr_img_5', 'past_chr_img_6',\n",
    "                                           'past_chr_date_1', 'past_chr_date_2', 'past_chr_date_3',\n",
    "                                           'past_chr_date_4', 'past_chr_date_5', 'past_chr_date_6'])\n",
    "\n",
    "    for user_detail_path in os.listdir(user_detail):\n",
    "        temp = pd.read_csv(os.path.join(user_detail, user_detail_path))\n",
    "        user_detail_df = pd.concat([user_detail_df, temp])\n",
    "\n",
    "    user_detail_df = user_detail_df.drop_duplicates(subset=[\"nickname\"])\n",
    "\n",
    "    user_df = pd.merge(left=user_detail_df, right=user_info_df, on=\"nickname\", how=\"left\")\n",
    "\n",
    "    return user_df"
   ]
  },
  {
   "cell_type": "code",
   "execution_count": 4,
   "metadata": {},
   "outputs": [],
   "source": [
    "data_1 = data_concat('./data/user_info_1225/', './data/user_detail_past/')\n",
    "data_2 = data_concat('./data/user_info_1225/', './data/user_detail/')"
   ]
  },
  {
   "cell_type": "code",
   "execution_count": 5,
   "metadata": {},
   "outputs": [
    {
     "data": {
      "text/plain": [
       "190000"
      ]
     },
     "execution_count": 5,
     "metadata": {},
     "output_type": "execute_result"
    }
   ],
   "source": [
    "len(data_1)"
   ]
  },
  {
   "cell_type": "code",
   "execution_count": 6,
   "metadata": {},
   "outputs": [],
   "source": [
    "data = pd.merge(data_1, data_2, on = 'nickname')\n",
    "caution = data[(data['codi-hat_x']!=data['codi-hat_y'] )| (data['codi-hair_x']!=data['codi-hair_y']) | (data['codi-face_x']!=data['codi-face_y']) | (data['codi-top_x']!=data['codi-top_y']) | (data['codi-bottom_x']!=data['codi-bottom_y']) | (data['codi-shoes_x']!=data['codi-shoes_y']) | (data['codi-weapon_x']!=data['codi-weapon_y'])]\n",
    "caution = caution['nickname'].reset_index(drop=True)"
   ]
  },
  {
   "cell_type": "code",
   "execution_count": 7,
   "metadata": {},
   "outputs": [
    {
     "data": {
      "text/html": [
       "<div>\n",
       "<style scoped>\n",
       "    .dataframe tbody tr th:only-of-type {\n",
       "        vertical-align: middle;\n",
       "    }\n",
       "\n",
       "    .dataframe tbody tr th {\n",
       "        vertical-align: top;\n",
       "    }\n",
       "\n",
       "    .dataframe thead th {\n",
       "        text-align: right;\n",
       "    }\n",
       "</style>\n",
       "<table border=\"1\" class=\"dataframe\">\n",
       "  <thead>\n",
       "    <tr style=\"text-align: right;\">\n",
       "      <th></th>\n",
       "      <th>nickname</th>\n",
       "      <th>codi-hat_x</th>\n",
       "      <th>codi-hair_x</th>\n",
       "      <th>codi-face_x</th>\n",
       "      <th>codi-top_x</th>\n",
       "      <th>codi-bottom_x</th>\n",
       "      <th>codi-shoes_x</th>\n",
       "      <th>codi-weapon_x</th>\n",
       "      <th>level_x</th>\n",
       "      <th>class_x</th>\n",
       "      <th>...</th>\n",
       "      <th>past_chr_img_5_y</th>\n",
       "      <th>past_chr_img_6_y</th>\n",
       "      <th>past_chr_date_1_y</th>\n",
       "      <th>past_chr_date_2_y</th>\n",
       "      <th>past_chr_date_3_y</th>\n",
       "      <th>past_chr_date_4_y</th>\n",
       "      <th>past_chr_date_5_y</th>\n",
       "      <th>past_chr_date_6_y</th>\n",
       "      <th>server_y</th>\n",
       "      <th>user_info_url_y</th>\n",
       "    </tr>\n",
       "  </thead>\n",
       "  <tbody>\n",
       "    <tr>\n",
       "      <th>30008</th>\n",
       "      <td>테룽이</td>\n",
       "      <td>해바라기 꽃모자</td>\n",
       "      <td>샤이닝 헤어</td>\n",
       "      <td>꼬맹이 얼굴</td>\n",
       "      <td>별빛 연구원</td>\n",
       "      <td>-</td>\n",
       "      <td>[BTS] 사일런트 나이트</td>\n",
       "      <td>해바라기 큰송이</td>\n",
       "      <td>Lv.290(25.23%)</td>\n",
       "      <td>카이저</td>\n",
       "      <td>...</td>\n",
       "      <td>https://avatar.maplestory.nexon.com/Character/...</td>\n",
       "      <td>https://avatar.maplestory.nexon.com/Character/...</td>\n",
       "      <td>22-11-24</td>\n",
       "      <td>22-08-05</td>\n",
       "      <td>22-08-03</td>\n",
       "      <td>22-05-02</td>\n",
       "      <td>22-04-21</td>\n",
       "      <td>22-02-26</td>\n",
       "      <td>NaN</td>\n",
       "      <td>NaN</td>\n",
       "    </tr>\n",
       "    <tr>\n",
       "      <th>30097</th>\n",
       "      <td>화놋이</td>\n",
       "      <td>하이네스 던위치햇</td>\n",
       "      <td>아침등교 헤어</td>\n",
       "      <td>오르카 얼굴</td>\n",
       "      <td>이글아이 던위치로브</td>\n",
       "      <td>트릭스터 던위치팬츠</td>\n",
       "      <td>앱솔랩스 메이지슈즈</td>\n",
       "      <td>제네시스 스태프</td>\n",
       "      <td>Lv.286(16.846%)</td>\n",
       "      <td>아크메이지(불,독)</td>\n",
       "      <td>...</td>\n",
       "      <td>https://avatar.maplestory.nexon.com/Character/...</td>\n",
       "      <td>https://avatar.maplestory.nexon.com/Character/...</td>\n",
       "      <td>22-12-24</td>\n",
       "      <td>22-12-22</td>\n",
       "      <td>22-12-15</td>\n",
       "      <td>22-12-12</td>\n",
       "      <td>22-12-03</td>\n",
       "      <td>22-11-15</td>\n",
       "      <td>NaN</td>\n",
       "      <td>NaN</td>\n",
       "    </tr>\n",
       "    <tr>\n",
       "      <th>30988</th>\n",
       "      <td>꿈릿</td>\n",
       "      <td>묵빛 갓</td>\n",
       "      <td>블링 루야 헤어</td>\n",
       "      <td>멍한 오드아이 얼굴</td>\n",
       "      <td>정결한 기품</td>\n",
       "      <td>-</td>\n",
       "      <td>-</td>\n",
       "      <td>천년의 약속</td>\n",
       "      <td>Lv.282(60.369%)</td>\n",
       "      <td>패스파인더</td>\n",
       "      <td>...</td>\n",
       "      <td>https://avatar.maplestory.nexon.com/Character/...</td>\n",
       "      <td>https://avatar.maplestory.nexon.com/Character/...</td>\n",
       "      <td>22-12-24</td>\n",
       "      <td>22-12-21</td>\n",
       "      <td>22-12-20</td>\n",
       "      <td>22-12-16</td>\n",
       "      <td>22-12-12</td>\n",
       "      <td>22-12-11</td>\n",
       "      <td>NaN</td>\n",
       "      <td>NaN</td>\n",
       "    </tr>\n",
       "    <tr>\n",
       "      <th>30989</th>\n",
       "      <td>LeeHaeSeong</td>\n",
       "      <td>흐드러진 악몽</td>\n",
       "      <td>폴암의 전사 헤어</td>\n",
       "      <td>-</td>\n",
       "      <td>서린 장미</td>\n",
       "      <td>-</td>\n",
       "      <td>악몽 행진곡</td>\n",
       "      <td>악몽 진주</td>\n",
       "      <td>Lv.282(61.166%)</td>\n",
       "      <td>은월</td>\n",
       "      <td>...</td>\n",
       "      <td>https://avatar.maplestory.nexon.com/Character/...</td>\n",
       "      <td>https://avatar.maplestory.nexon.com/Character/...</td>\n",
       "      <td>22-12-22</td>\n",
       "      <td>22-12-15</td>\n",
       "      <td>22-12-14</td>\n",
       "      <td>22-12-10</td>\n",
       "      <td>22-12-02</td>\n",
       "      <td>22-11-30</td>\n",
       "      <td>NaN</td>\n",
       "      <td>NaN</td>\n",
       "    </tr>\n",
       "    <tr>\n",
       "      <th>30978</th>\n",
       "      <td>채경이</td>\n",
       "      <td>피어난 악몽</td>\n",
       "      <td>블레이 헤어</td>\n",
       "      <td>루시드 얼굴</td>\n",
       "      <td>서린 장미</td>\n",
       "      <td>-</td>\n",
       "      <td>악몽 행진곡</td>\n",
       "      <td>악몽 진주</td>\n",
       "      <td>Lv.282(60.173%)</td>\n",
       "      <td>아크</td>\n",
       "      <td>...</td>\n",
       "      <td>https://avatar.maplestory.nexon.com/Character/...</td>\n",
       "      <td>https://avatar.maplestory.nexon.com/Character/...</td>\n",
       "      <td>22-12-13</td>\n",
       "      <td>22-11-24</td>\n",
       "      <td>22-11-20</td>\n",
       "      <td>22-11-17</td>\n",
       "      <td>22-11-16</td>\n",
       "      <td>22-10-26</td>\n",
       "      <td>NaN</td>\n",
       "      <td>NaN</td>\n",
       "    </tr>\n",
       "    <tr>\n",
       "      <th>...</th>\n",
       "      <td>...</td>\n",
       "      <td>...</td>\n",
       "      <td>...</td>\n",
       "      <td>...</td>\n",
       "      <td>...</td>\n",
       "      <td>...</td>\n",
       "      <td>...</td>\n",
       "      <td>...</td>\n",
       "      <td>...</td>\n",
       "      <td>...</td>\n",
       "      <td>...</td>\n",
       "      <td>...</td>\n",
       "      <td>...</td>\n",
       "      <td>...</td>\n",
       "      <td>...</td>\n",
       "      <td>...</td>\n",
       "      <td>...</td>\n",
       "      <td>...</td>\n",
       "      <td>...</td>\n",
       "      <td>...</td>\n",
       "      <td>...</td>\n",
       "    </tr>\n",
       "    <tr>\n",
       "      <th>30991</th>\n",
       "      <td>키프로사</td>\n",
       "      <td>바니 스냅백</td>\n",
       "      <td>멜로우 헤어</td>\n",
       "      <td>-</td>\n",
       "      <td>하트비트 두근</td>\n",
       "      <td>-</td>\n",
       "      <td>러블리 체크 구두</td>\n",
       "      <td>매혹의 향기</td>\n",
       "      <td>Lv.282(59.24%)</td>\n",
       "      <td>카인</td>\n",
       "      <td>...</td>\n",
       "      <td>https://avatar.maplestory.nexon.com/Character/...</td>\n",
       "      <td>https://avatar.maplestory.nexon.com/Character/...</td>\n",
       "      <td>22-12-19</td>\n",
       "      <td>22-12-16</td>\n",
       "      <td>22-12-10</td>\n",
       "      <td>22-12-09</td>\n",
       "      <td>22-11-24</td>\n",
       "      <td>22-11-06</td>\n",
       "      <td>NaN</td>\n",
       "      <td>NaN</td>\n",
       "    </tr>\n",
       "    <tr>\n",
       "      <th>30984</th>\n",
       "      <td>참미인</td>\n",
       "      <td>시련의 무게</td>\n",
       "      <td>설탕소녀 헤어</td>\n",
       "      <td>졸린 얼굴</td>\n",
       "      <td>레이디 라비린스</td>\n",
       "      <td>-</td>\n",
       "      <td>해답의 조각</td>\n",
       "      <td>미궁의 연무</td>\n",
       "      <td>Lv.282(59.111%)</td>\n",
       "      <td>아델</td>\n",
       "      <td>...</td>\n",
       "      <td>https://avatar.maplestory.nexon.com/Character/...</td>\n",
       "      <td>https://avatar.maplestory.nexon.com/Character/...</td>\n",
       "      <td>22-11-24</td>\n",
       "      <td>22-09-08</td>\n",
       "      <td>22-07-03</td>\n",
       "      <td>22-06-27</td>\n",
       "      <td>22-06-13</td>\n",
       "      <td>22-04-21</td>\n",
       "      <td>NaN</td>\n",
       "      <td>NaN</td>\n",
       "    </tr>\n",
       "    <tr>\n",
       "      <th>31015</th>\n",
       "      <td>무선통신</td>\n",
       "      <td>19주년 생일 모자</td>\n",
       "      <td>-</td>\n",
       "      <td>조용한 눈 얼굴</td>\n",
       "      <td>행복한 생일</td>\n",
       "      <td>-</td>\n",
       "      <td>생일날 양말</td>\n",
       "      <td>-</td>\n",
       "      <td>Lv.282(62.277%)</td>\n",
       "      <td>아델</td>\n",
       "      <td>...</td>\n",
       "      <td>https://avatar.maplestory.nexon.com/Character/...</td>\n",
       "      <td>https://avatar.maplestory.nexon.com/Character/...</td>\n",
       "      <td>22-12-22</td>\n",
       "      <td>22-12-21</td>\n",
       "      <td>22-12-18</td>\n",
       "      <td>22-12-17</td>\n",
       "      <td>22-12-16</td>\n",
       "      <td>22-12-13</td>\n",
       "      <td>NaN</td>\n",
       "      <td>NaN</td>\n",
       "    </tr>\n",
       "    <tr>\n",
       "      <th>30994</th>\n",
       "      <td>으줴</td>\n",
       "      <td>오로라 왕관</td>\n",
       "      <td>블링 루야 헤어</td>\n",
       "      <td>차분한 헤헤 얼굴</td>\n",
       "      <td>순수한 은하</td>\n",
       "      <td>-</td>\n",
       "      <td>-</td>\n",
       "      <td>오로라 왈츠</td>\n",
       "      <td>Lv.282(60.299%)</td>\n",
       "      <td>나이트로드</td>\n",
       "      <td>...</td>\n",
       "      <td>https://avatar.maplestory.nexon.com/Character/...</td>\n",
       "      <td>https://avatar.maplestory.nexon.com/Character/...</td>\n",
       "      <td>22-12-24</td>\n",
       "      <td>22-12-23</td>\n",
       "      <td>22-12-13</td>\n",
       "      <td>22-11-22</td>\n",
       "      <td>22-11-19</td>\n",
       "      <td>22-11-12</td>\n",
       "      <td>NaN</td>\n",
       "      <td>NaN</td>\n",
       "    </tr>\n",
       "    <tr>\n",
       "      <th>31007</th>\n",
       "      <td>맹쿠</td>\n",
       "      <td>-</td>\n",
       "      <td>시엘 헤어</td>\n",
       "      <td>사나이 얼굴</td>\n",
       "      <td>-</td>\n",
       "      <td>-</td>\n",
       "      <td>별빛 걸음</td>\n",
       "      <td>레인보우 스타</td>\n",
       "      <td>Lv.282(60.797%)</td>\n",
       "      <td>아델</td>\n",
       "      <td>...</td>\n",
       "      <td>https://avatar.maplestory.nexon.com/Character/...</td>\n",
       "      <td>https://avatar.maplestory.nexon.com/Character/...</td>\n",
       "      <td>22-12-24</td>\n",
       "      <td>22-12-23</td>\n",
       "      <td>22-12-22</td>\n",
       "      <td>22-12-20</td>\n",
       "      <td>22-12-19</td>\n",
       "      <td>22-12-18</td>\n",
       "      <td>NaN</td>\n",
       "      <td>NaN</td>\n",
       "    </tr>\n",
       "  </tbody>\n",
       "</table>\n",
       "<p>190000 rows × 71 columns</p>\n",
       "</div>"
      ],
      "text/plain": [
       "          nickname  codi-hat_x codi-hair_x codi-face_x  codi-top_x  \\\n",
       "30008          테룽이    해바라기 꽃모자      샤이닝 헤어      꼬맹이 얼굴      별빛 연구원   \n",
       "30097          화놋이   하이네스 던위치햇     아침등교 헤어      오르카 얼굴  이글아이 던위치로브   \n",
       "30988           꿈릿        묵빛 갓    블링 루야 헤어  멍한 오드아이 얼굴      정결한 기품   \n",
       "30989  LeeHaeSeong     흐드러진 악몽   폴암의 전사 헤어           -       서린 장미   \n",
       "30978          채경이      피어난 악몽      블레이 헤어      루시드 얼굴       서린 장미   \n",
       "...            ...         ...         ...         ...         ...   \n",
       "30991         키프로사      바니 스냅백      멜로우 헤어           -     하트비트 두근   \n",
       "30984          참미인      시련의 무게     설탕소녀 헤어       졸린 얼굴    레이디 라비린스   \n",
       "31015         무선통신  19주년 생일 모자           -    조용한 눈 얼굴      행복한 생일   \n",
       "30994           으줴      오로라 왕관    블링 루야 헤어   차분한 헤헤 얼굴      순수한 은하   \n",
       "31007           맹쿠           -       시엘 헤어      사나이 얼굴           -   \n",
       "\n",
       "      codi-bottom_x    codi-shoes_x codi-weapon_x          level_x  \\\n",
       "30008             -  [BTS] 사일런트 나이트      해바라기 큰송이   Lv.290(25.23%)   \n",
       "30097    트릭스터 던위치팬츠      앱솔랩스 메이지슈즈      제네시스 스태프  Lv.286(16.846%)   \n",
       "30988             -               -        천년의 약속  Lv.282(60.369%)   \n",
       "30989             -          악몽 행진곡         악몽 진주  Lv.282(61.166%)   \n",
       "30978             -          악몽 행진곡         악몽 진주  Lv.282(60.173%)   \n",
       "...             ...             ...           ...              ...   \n",
       "30991             -       러블리 체크 구두        매혹의 향기   Lv.282(59.24%)   \n",
       "30984             -          해답의 조각        미궁의 연무  Lv.282(59.111%)   \n",
       "31015             -          생일날 양말             -  Lv.282(62.277%)   \n",
       "30994             -               -        오로라 왈츠  Lv.282(60.299%)   \n",
       "31007             -           별빛 걸음       레인보우 스타  Lv.282(60.797%)   \n",
       "\n",
       "          class_x  ...                                   past_chr_img_5_y  \\\n",
       "30008         카이저  ...  https://avatar.maplestory.nexon.com/Character/...   \n",
       "30097  아크메이지(불,독)  ...  https://avatar.maplestory.nexon.com/Character/...   \n",
       "30988       패스파인더  ...  https://avatar.maplestory.nexon.com/Character/...   \n",
       "30989          은월  ...  https://avatar.maplestory.nexon.com/Character/...   \n",
       "30978          아크  ...  https://avatar.maplestory.nexon.com/Character/...   \n",
       "...           ...  ...                                                ...   \n",
       "30991          카인  ...  https://avatar.maplestory.nexon.com/Character/...   \n",
       "30984          아델  ...  https://avatar.maplestory.nexon.com/Character/...   \n",
       "31015          아델  ...  https://avatar.maplestory.nexon.com/Character/...   \n",
       "30994       나이트로드  ...  https://avatar.maplestory.nexon.com/Character/...   \n",
       "31007          아델  ...  https://avatar.maplestory.nexon.com/Character/...   \n",
       "\n",
       "                                        past_chr_img_6_y past_chr_date_1_y  \\\n",
       "30008  https://avatar.maplestory.nexon.com/Character/...          22-11-24   \n",
       "30097  https://avatar.maplestory.nexon.com/Character/...          22-12-24   \n",
       "30988  https://avatar.maplestory.nexon.com/Character/...          22-12-24   \n",
       "30989  https://avatar.maplestory.nexon.com/Character/...          22-12-22   \n",
       "30978  https://avatar.maplestory.nexon.com/Character/...          22-12-13   \n",
       "...                                                  ...               ...   \n",
       "30991  https://avatar.maplestory.nexon.com/Character/...          22-12-19   \n",
       "30984  https://avatar.maplestory.nexon.com/Character/...          22-11-24   \n",
       "31015  https://avatar.maplestory.nexon.com/Character/...          22-12-22   \n",
       "30994  https://avatar.maplestory.nexon.com/Character/...          22-12-24   \n",
       "31007  https://avatar.maplestory.nexon.com/Character/...          22-12-24   \n",
       "\n",
       "      past_chr_date_2_y past_chr_date_3_y past_chr_date_4_y past_chr_date_5_y  \\\n",
       "30008          22-08-05          22-08-03          22-05-02          22-04-21   \n",
       "30097          22-12-22          22-12-15          22-12-12          22-12-03   \n",
       "30988          22-12-21          22-12-20          22-12-16          22-12-12   \n",
       "30989          22-12-15          22-12-14          22-12-10          22-12-02   \n",
       "30978          22-11-24          22-11-20          22-11-17          22-11-16   \n",
       "...                 ...               ...               ...               ...   \n",
       "30991          22-12-16          22-12-10          22-12-09          22-11-24   \n",
       "30984          22-09-08          22-07-03          22-06-27          22-06-13   \n",
       "31015          22-12-21          22-12-18          22-12-17          22-12-16   \n",
       "30994          22-12-23          22-12-13          22-11-22          22-11-19   \n",
       "31007          22-12-23          22-12-22          22-12-20          22-12-19   \n",
       "\n",
       "      past_chr_date_6_y server_y user_info_url_y  \n",
       "30008          22-02-26      NaN             NaN  \n",
       "30097          22-11-15      NaN             NaN  \n",
       "30988          22-12-11      NaN             NaN  \n",
       "30989          22-11-30      NaN             NaN  \n",
       "30978          22-10-26      NaN             NaN  \n",
       "...                 ...      ...             ...  \n",
       "30991          22-11-06      NaN             NaN  \n",
       "30984          22-04-21      NaN             NaN  \n",
       "31015          22-12-13      NaN             NaN  \n",
       "30994          22-11-12      NaN             NaN  \n",
       "31007          22-12-18      NaN             NaN  \n",
       "\n",
       "[190000 rows x 71 columns]"
      ]
     },
     "execution_count": 7,
     "metadata": {},
     "output_type": "execute_result"
    }
   ],
   "source": [
    "data = data.sort_values(by='total_ranking_x', ascending=False)\n",
    "data"
   ]
  },
  {
   "cell_type": "code",
   "execution_count": 8,
   "metadata": {},
   "outputs": [
    {
     "data": {
      "text/plain": [
       "0         초장파위법사\n",
       "1            피가영\n",
       "2        Brendis\n",
       "3             뮤렬\n",
       "4          윙비트코인\n",
       "          ...   \n",
       "65184      yeoni\n",
       "65185     아델리펭구구\n",
       "65186         탓도\n",
       "65187       향일화린\n",
       "65188        리랏응\n",
       "Name: nickname, Length: 65189, dtype: object"
      ]
     },
     "execution_count": 8,
     "metadata": {},
     "output_type": "execute_result"
    }
   ],
   "source": [
    "caution #1-200000 (except 60000-70000)"
   ]
  },
  {
   "cell_type": "markdown",
   "metadata": {
    "tags": []
   },
   "source": [
    "# 2. EDA 및 이상치 파악"
   ]
  },
  {
   "cell_type": "code",
   "execution_count": 59,
   "metadata": {},
   "outputs": [],
   "source": [
    "from google.cloud import storage\n",
    "\n",
    "def download_from_gcs(\n",
    "    blob_name: str,\n",
    "    file_name: str,\n",
    "    key_path: str = \"key.json\",\n",
    "    bucket_name: str = \"maple_raw_data\",\n",
    "):\n",
    "    \"\"\"\n",
    "    파일을 gcs로 부터 다운로드\n",
    "\n",
    "    blob_name: gcs에 저장되어있는 파일 경로 및 이름 (gcs 상의 경로) ex) csv/user_info.csv\n",
    "    file_name: gcs에서 download할 파일 경로 및 이름 (local 상의 경로) ex) data/user_info/user_info.csv\n",
    "    key_path: 아까 저장한 key file 경로 ex) config/key.json\n",
    "    bucket_name: gcs 안에 어떤 버킷에서 불러 올 것인지? ex) maple_raw_data\n",
    "    \"\"\"\n",
    "    # client 가져오기\n",
    "    storage_client = storage.Client.from_service_account_json(key_path)\n",
    "    # client 내 bucket 가져오기\n",
    "    bucket = storage_client.get_bucket(bucket_name)\n",
    "    # bucket 내 깡통 blob 생성\n",
    "    blob = bucket.blob(blob_name)\n",
    "    # 해당 blob에 파일 업로드\n",
    "    blob.download_to_filename(file_name)\n",
    "    return None"
   ]
  },
  {
   "cell_type": "code",
   "execution_count": 60,
   "metadata": {},
   "outputs": [
    {
     "data": {
      "text/plain": [
       "'/opt/ml/final-project-level3-recsys-01'"
      ]
     },
     "execution_count": 60,
     "metadata": {},
     "output_type": "execute_result"
    }
   ],
   "source": [
    "pwd"
   ]
  },
  {
   "cell_type": "code",
   "execution_count": 63,
   "metadata": {},
   "outputs": [],
   "source": [
    "# data = download_from_gcs('csv/user_detail_temp_total.csv', './data/user_detail_total_ver1.csv', key_path='./config/final-project-372103-660e1aea91f7.json')\n",
    "# data_1 = get_int_basic(data_1)\n",
    "# data_1 = get_int_record(data_1)"
   ]
  },
  {
   "cell_type": "markdown",
   "metadata": {},
   "source": [
    "## 기본 꼴 보기"
   ]
  },
  {
   "cell_type": "code",
   "execution_count": 3,
   "metadata": {},
   "outputs": [],
   "source": [
    "data = pd.read_csv('./data/user_detail_total_ver1.csv')"
   ]
  },
  {
   "cell_type": "code",
   "execution_count": 4,
   "metadata": {},
   "outputs": [],
   "source": [
    "data = get_int_basic(data)\n",
    "data = get_int_record(data)"
   ]
  },
  {
   "cell_type": "markdown",
   "metadata": {},
   "source": [
    "### 기본 전처리 (날짜)"
   ]
  },
  {
   "cell_type": "code",
   "execution_count": 13,
   "metadata": {},
   "outputs": [],
   "source": [
    "date_columns = [x for idx, x in enumerate(data.columns) if x.find('date')!=-1]\n",
    "date_columns\n",
    "for date in date_columns:\n",
    "    data[date] = data[date].apply(lambda x : x.replace('/', '-'))\n",
    "data.drop(date_columns, axis=1, inplace=True)"
   ]
  },
  {
   "cell_type": "code",
   "execution_count": 11,
   "metadata": {},
   "outputs": [],
   "source": [
    "data['last_access'] = data['last_access'].apply(lambda x : x.replace('/', '-'))"
   ]
  },
  {
   "cell_type": "markdown",
   "metadata": {},
   "source": [
    "### NULL 값 파악"
   ]
  },
  {
   "cell_type": "code",
   "execution_count": 14,
   "metadata": {},
   "outputs": [
    {
     "data": {
      "text/plain": [
       "nickname               0\n",
       "codi-hat               0\n",
       "codi-hair              0\n",
       "codi-face              0\n",
       "codi-top               0\n",
       "codi-bottom            0\n",
       "codi-shoes             0\n",
       "codi-weapon            0\n",
       "level                  0\n",
       "class                  0\n",
       "popularity             0\n",
       "total_ranking          0\n",
       "world_ranking          0\n",
       "class_world_ranking    0\n",
       "class_total_ranking    0\n",
       "guild                  0\n",
       "last_access            0\n",
       "mureung                0\n",
       "theseed                0\n",
       "union                  0\n",
       "achievement            0\n",
       "cur_chr                0\n",
       "past_chr_img_1         0\n",
       "past_chr_img_2         0\n",
       "past_chr_img_3         0\n",
       "past_chr_img_4         0\n",
       "past_chr_img_5         0\n",
       "past_chr_img_6         0\n",
       "exp                    0\n",
       "dtype: int64"
      ]
     },
     "execution_count": 14,
     "metadata": {},
     "output_type": "execute_result"
    }
   ],
   "source": [
    "data.isna().sum()"
   ]
  },
  {
   "cell_type": "markdown",
   "metadata": {
    "jp-MarkdownHeadingCollapsed": true,
    "tags": []
   },
   "source": [
    "#### 과거 코디 정보 => 사용 X\n",
    "- 과거 코디 정보의 경우 null 값이 None으로 들어가 있음"
   ]
  },
  {
   "cell_type": "code",
   "execution_count": 14,
   "metadata": {},
   "outputs": [
    {
     "data": {
      "text/plain": [
       "None        4196\n",
       "22-11-24    3180\n",
       "22-09-18    2837\n",
       "22-09-17    2383\n",
       "22-04-21    2207\n",
       "            ... \n",
       "18-12-08       1\n",
       "18-11-06       1\n",
       "18-09-26       1\n",
       "18-09-13       1\n",
       "20-05-03       1\n",
       "Name: past_chr_date_6, Length: 1321, dtype: int64"
      ]
     },
     "execution_count": 14,
     "metadata": {},
     "output_type": "execute_result"
    }
   ],
   "source": [
    "data_1['past_chr_date_6'].value_counts()"
   ]
  },
  {
   "cell_type": "code",
   "execution_count": 15,
   "metadata": {},
   "outputs": [
    {
     "data": {
      "text/plain": [
       "0"
      ]
     },
     "execution_count": 15,
     "metadata": {},
     "output_type": "execute_result"
    }
   ],
   "source": [
    "sum(data_1['past_chr_date_1'].str.find('None')!=-1) # 1번째에는 null값 X"
   ]
  },
  {
   "cell_type": "code",
   "execution_count": 16,
   "metadata": {},
   "outputs": [
    {
     "name": "stdout",
     "output_type": "stream",
     "text": [
      "past_chr_date_2 0.0011578947368421054\n",
      "past_chr_date_3 0.005105263157894737\n",
      "past_chr_date_4 0.0108\n",
      "past_chr_date_5 0.016431578947368422\n",
      "past_chr_date_6 0.02208421052631579\n"
     ]
    }
   ],
   "source": [
    "for date in date_columns:\n",
    "    if sum(data_1[date].str.find('None')!=-1)!=0:\n",
    "        print(date, data_1[date].value_counts()['None']/len(data_1))"
   ]
  },
  {
   "cell_type": "markdown",
   "metadata": {},
   "source": [
    "- 막 엄청 많지는 않네 null값 비율이"
   ]
  },
  {
   "cell_type": "markdown",
   "metadata": {
    "tags": []
   },
   "source": [
    "##### Null값 처리\n",
    "- None인 애들은 99-12-31으로 바꿔줌"
   ]
  },
  {
   "cell_type": "code",
   "execution_count": 17,
   "metadata": {},
   "outputs": [],
   "source": [
    "for date in date_columns:\n",
    "    data_1[date] = data_1[date].apply(lambda x : x.replace('None', '99-12-31'))\n",
    "    data_1[date] = data_1[date].apply(lambda x : '20' + x)"
   ]
  },
  {
   "cell_type": "code",
   "execution_count": 18,
   "metadata": {},
   "outputs": [
    {
     "data": {
      "text/plain": [
       "2099-12-31    4196\n",
       "2022-11-24    3180\n",
       "2022-09-18    2837\n",
       "2022-09-17    2383\n",
       "2022-04-21    2207\n",
       "              ... \n",
       "2018-12-08       1\n",
       "2018-11-06       1\n",
       "2018-09-26       1\n",
       "2018-09-13       1\n",
       "2020-05-03       1\n",
       "Name: past_chr_date_6, Length: 1321, dtype: int64"
      ]
     },
     "execution_count": 18,
     "metadata": {},
     "output_type": "execute_result"
    }
   ],
   "source": [
    "data_1['past_chr_date_6'].value_counts()"
   ]
  },
  {
   "cell_type": "markdown",
   "metadata": {},
   "source": [
    "#### 입고 있는 코디 정보"
   ]
  },
  {
   "cell_type": "code",
   "execution_count": 15,
   "metadata": {},
   "outputs": [],
   "source": [
    "codi_columns = [x for idx, x in enumerate(data.columns) if x.find('codi')!=-1]"
   ]
  },
  {
   "cell_type": "code",
   "execution_count": 16,
   "metadata": {},
   "outputs": [
    {
     "name": "stdout",
     "output_type": "stream",
     "text": [
      "codi-hat 127462\n",
      "codi-hair 235483\n",
      "codi-face 677799\n",
      "codi-top 47064\n",
      "codi-bottom 1101133\n",
      "codi-shoes 328926\n",
      "codi-weapon 132663\n"
     ]
    }
   ],
   "source": [
    "for codi in codi_columns:\n",
    "    print(codi, data[codi].value_counts()['-'])"
   ]
  },
  {
   "cell_type": "markdown",
   "metadata": {},
   "source": [
    "- 116만개 중에 codi-bottom은 110만개가 -인걸 보아 codi-bottom은 없애는게 나을지도 모르겠음\n",
    "- 성형 정보도 절반 가량은 -인데 어떡하지?"
   ]
  },
  {
   "cell_type": "markdown",
   "metadata": {},
   "source": [
    "#### 길드/무릉도장/더시드/유니온\n",
    "- 길드의 경우 Null은 (없음)\n",
    "- 무릉도장/더시드/유니온의 경우 Null은 -1"
   ]
  },
  {
   "cell_type": "code",
   "execution_count": 17,
   "metadata": {},
   "outputs": [
    {
     "data": {
      "text/plain": [
       "0.3644913793103448"
      ]
     },
     "execution_count": 17,
     "metadata": {},
     "output_type": "execute_result"
    }
   ],
   "source": [
    "# 길드의 Null값 비율\n",
    "data['guild'].value_counts()['(없음)']/len(data)"
   ]
  },
  {
   "cell_type": "code",
   "execution_count": 18,
   "metadata": {},
   "outputs": [
    {
     "data": {
      "text/plain": [
       "0.36541293103448275"
      ]
     },
     "execution_count": 18,
     "metadata": {},
     "output_type": "execute_result"
    }
   ],
   "source": [
    "# 무릉도장의 null값 비율\n",
    "data['mureung'].value_counts()[-1]/len(data)"
   ]
  },
  {
   "cell_type": "code",
   "execution_count": 19,
   "metadata": {},
   "outputs": [
    {
     "data": {
      "text/plain": [
       "0.7091931034482759"
      ]
     },
     "execution_count": 19,
     "metadata": {},
     "output_type": "execute_result"
    }
   ],
   "source": [
    "# 더시드의 null값 비율\n",
    "data['theseed'].value_counts()[-1]/len(data)"
   ]
  },
  {
   "cell_type": "code",
   "execution_count": 20,
   "metadata": {},
   "outputs": [
    {
     "data": {
      "text/plain": [
       "0.7712336206896552"
      ]
     },
     "execution_count": 20,
     "metadata": {},
     "output_type": "execute_result"
    }
   ],
   "source": [
    "# 유니온의 null값 비율 -> 일정 수치 이하는 집계가 안 될 수도 있음 + 부캐는 안 뜸\n",
    "data['union'].value_counts()[-1]/len(data)"
   ]
  },
  {
   "cell_type": "markdown",
   "metadata": {},
   "source": [
    "## Codi\n",
    "- 에러 데이터는 성형 쪽에 많음 (무기에도 하나 있긴 함)\n",
    "- 전체적으로 전처리 한번 싹 돌릴 필요 있어 보임 (했다는게 아니라 할 일)\n",
    "    - strip\n",
    "    - 공백 2개 이상 제거"
   ]
  },
  {
   "cell_type": "code",
   "execution_count": 21,
   "metadata": {},
   "outputs": [],
   "source": [
    "def get_sorted_set(column):\n",
    "    item_list = list(chain(*list(data[column].str.split(' ').values)))\n",
    "    item_set = Counter(item_list)\n",
    "    item_set = sorted(item_set.items(), key=lambda kv:kv[1], reverse=True)\n",
    "    return item_set"
   ]
  },
  {
   "cell_type": "markdown",
   "metadata": {
    "tags": []
   },
   "source": [
    "### codi-hat"
   ]
  },
  {
   "cell_type": "code",
   "execution_count": 22,
   "metadata": {},
   "outputs": [],
   "source": [
    "hat_set = get_sorted_set('codi-hat')"
   ]
  },
  {
   "cell_type": "markdown",
   "metadata": {},
   "source": [
    "직접 살펴 본 결과 'ㅇ', 'ㅁ', 'ㅍ', '' 등의 이상한 글자가 있음 -> 전처리 필요함 -> 안 필요함 있는 아이템 맞음  \n",
    "그리고 'New'도 있던데 이건 항상 붙는건지 아님 일정 기간만 붙는건지 확인해 볼 필요 있음"
   ]
  },
  {
   "cell_type": "code",
   "execution_count": 23,
   "metadata": {},
   "outputs": [
    {
     "data": {
      "text/plain": [
       "1659"
      ]
     },
     "execution_count": 23,
     "metadata": {},
     "output_type": "execute_result"
    }
   ],
   "source": [
    "len(hat_set)"
   ]
  },
  {
   "cell_type": "code",
   "execution_count": 25,
   "metadata": {},
   "outputs": [
    {
     "data": {
      "text/plain": [
       "array([], dtype=object)"
      ]
     },
     "execution_count": 25,
     "metadata": {},
     "output_type": "execute_result"
    }
   ],
   "source": [
    "data['codi-hat'][data['codi-hat'].str.find('#')!=-1].unique()"
   ]
  },
  {
   "cell_type": "code",
   "execution_count": 91,
   "metadata": {},
   "outputs": [
    {
     "data": {
      "text/plain": [
       "16400      ㅇ 모자\n",
       "17403      ㅇ 모자\n",
       "19232      ㅇ 모자\n",
       "31522      ㅇ 모자\n",
       "36133      ㅇ 모자\n",
       "           ... \n",
       "1111497    ㅇ 모자\n",
       "1120242    ㅇ 모자\n",
       "1140172    ㅇ 모자\n",
       "1145808    ㅇ 모자\n",
       "1151944    ㅇ 모자\n",
       "Name: codi-hat, Length: 112, dtype: object"
      ]
     },
     "execution_count": 91,
     "metadata": {},
     "output_type": "execute_result"
    }
   ],
   "source": [
    "data[data['codi-hat'].str.find('ㅇ')!=-1]['codi-hat']"
   ]
  },
  {
   "cell_type": "code",
   "execution_count": 92,
   "metadata": {},
   "outputs": [
    {
     "data": {
      "text/plain": [
       "21663      ㅍ 모자\n",
       "42055      ㅍ 모자\n",
       "50035      ㅍ 모자\n",
       "286592     ㅍ 모자\n",
       "324251     ㅍ 모자\n",
       "354786     ㅍ 모자\n",
       "373292     ㅍ 모자\n",
       "396562     ㅍ 모자\n",
       "468516     ㅍ 모자\n",
       "482797     ㅍ 모자\n",
       "502797     ㅍ 모자\n",
       "528890     ㅍ 모자\n",
       "616562     ㅍ 모자\n",
       "706552     ㅍ 모자\n",
       "766592     ㅍ 모자\n",
       "866562     ㅍ 모자\n",
       "936552     ㅍ 모자\n",
       "1004402    ㅍ 모자\n",
       "1011056    ㅍ 모자\n",
       "1046210    ㅍ 모자\n",
       "1114065    ㅍ 모자\n",
       "1129170    ㅍ 모자\n",
       "1151212    ㅍ 모자\n",
       "Name: codi-hat, dtype: object"
      ]
     },
     "execution_count": 92,
     "metadata": {},
     "output_type": "execute_result"
    }
   ],
   "source": [
    "data[data['codi-hat'].str.find('ㅍ')!=-1]['codi-hat']"
   ]
  },
  {
   "cell_type": "code",
   "execution_count": 93,
   "metadata": {},
   "outputs": [
    {
     "data": {
      "text/plain": [
       "4578       ㅁ 모자\n",
       "76475      ㅁ 모자\n",
       "102139     ㅁ 모자\n",
       "105491     ㅁ 모자\n",
       "126471     ㅁ 모자\n",
       "149865     ㅁ 모자\n",
       "280165     ㅁ 모자\n",
       "304574     ㅁ 모자\n",
       "317991     ㅁ 모자\n",
       "321397     ㅁ 모자\n",
       "336277     ㅁ 모자\n",
       "359874     ㅁ 모자\n",
       "372206     ㅁ 모자\n",
       "377057     ㅁ 모자\n",
       "396920     ㅁ 모자\n",
       "449402     ㅁ 모자\n",
       "530341     ㅁ 모자\n",
       "549832     ㅁ 모자\n",
       "606024     ㅁ 모자\n",
       "616920     ㅁ 모자\n",
       "700333     ㅁ 모자\n",
       "706534     ㅁ 모자\n",
       "760165     ㅁ 모자\n",
       "810341     ㅁ 모자\n",
       "829832     ㅁ 모자\n",
       "831841     ㅁ 모자\n",
       "856024     ㅁ 모자\n",
       "858722     ㅁ 모자\n",
       "866920     ㅁ 모자\n",
       "930333     ㅁ 모자\n",
       "936534     ㅁ 모자\n",
       "969260     ㅁ 모자\n",
       "1012925    ㅁ 모자\n",
       "1068800    ㅁ 모자\n",
       "1071246    ㅁ 모자\n",
       "1083791    ㅁ 모자\n",
       "1095639    ㅁ 모자\n",
       "1145467    ㅁ 모자\n",
       "1145959    ㅁ 모자\n",
       "1150007    ㅁ 모자\n",
       "1151646    ㅁ 모자\n",
       "Name: codi-hat, dtype: object"
      ]
     },
     "execution_count": 93,
     "metadata": {},
     "output_type": "execute_result"
    }
   ],
   "source": [
    "data[data['codi-hat'].str.find('ㅁ')!=-1]['codi-hat']"
   ]
  },
  {
   "cell_type": "markdown",
   "metadata": {},
   "source": [
    "ㅇ모자 ㅍ모자 ㅁ모자라는게 있음? 그럴 수가 있는거임?  \n",
    "도메인 전문가 말에 의하면 있다고 합니다 장난하세요?  \n",
    "음 아무래도 메이플은 장난이긴 함"
   ]
  },
  {
   "cell_type": "markdown",
   "metadata": {},
   "source": [
    "### codi-hair"
   ]
  },
  {
   "cell_type": "code",
   "execution_count": 94,
   "metadata": {},
   "outputs": [
    {
     "data": {
      "text/plain": [
       "804"
      ]
     },
     "execution_count": 94,
     "metadata": {},
     "output_type": "execute_result"
    }
   ],
   "source": [
    "hair_set = get_sorted_set('codi-hair')\n",
    "len(hair_set)"
   ]
  },
  {
   "cell_type": "markdown",
   "metadata": {},
   "source": [
    "hat에 비하면 이상한 데이터는 적은 편, 단 '미', '랑', '진'같이 어딘가에 붙어 있어야 할 것 같은 단어들이 있음  \n",
    "마찬가지로 ''는 있음  \n",
    "hat에 비해 다양성이 좀 부족한 것 같음"
   ]
  },
  {
   "cell_type": "code",
   "execution_count": 26,
   "metadata": {},
   "outputs": [
    {
     "data": {
      "text/plain": [
       "array([], dtype=object)"
      ]
     },
     "execution_count": 26,
     "metadata": {},
     "output_type": "execute_result"
    }
   ],
   "source": [
    "data['codi-hair'][data['codi-hair'].str.find('#')!=-1].unique()"
   ]
  },
  {
   "cell_type": "markdown",
   "metadata": {},
   "source": [
    "### codi-face"
   ]
  },
  {
   "cell_type": "code",
   "execution_count": 95,
   "metadata": {},
   "outputs": [
    {
     "data": {
      "text/plain": [
       "434"
      ]
     },
     "execution_count": 95,
     "metadata": {},
     "output_type": "execute_result"
    }
   ],
   "source": [
    "face_set = get_sorted_set('codi-face')\n",
    "len(face_set)"
   ]
  },
  {
   "cell_type": "markdown",
   "metadata": {},
   "source": [
    "에러가 난 듯한 데이터가 좀 있는편  \n",
    "ex) 남자얼굴12, 여자얼굴6, 여자얼굴21, #20319, #20419, #20619 ... 처럼 #이 붙은 데이터들도 있음  \n",
    "#붙은 애들은 도메인 지식으로 해결하면 좋을 것 같고 남자얼굴12, 여자얼굴6같은 건 어떻게 해야 할 지 잘 모르겠음  \n",
    "-> 장난하세요 검색해보니까 성형 이름이 남자얼굴12인거임 진짜 얼굴 이름이 남자얼굴12..그럴수잇음 아무래도  \n",
    "종류가 상당히 적은 편"
   ]
  },
  {
   "cell_type": "code",
   "execution_count": 100,
   "metadata": {},
   "outputs": [
    {
     "data": {
      "text/plain": [
       "array(['#20010', '#24129', '#24629', '#24529', '#24429', '#21066',\n",
       "       '#24229', '#24029', '#24329', '#20119', '#24729', '#20719',\n",
       "       '#20019', '#20072', '#20519', '#20473', '#21668', '#20219',\n",
       "       '#20419', '#21067', '#20319', '#20619'], dtype=object)"
      ]
     },
     "execution_count": 100,
     "metadata": {},
     "output_type": "execute_result"
    }
   ],
   "source": [
    "data['codi-face'][data['codi-face'].str.find('#')!=-1].unique()"
   ]
  },
  {
   "cell_type": "markdown",
   "metadata": {},
   "source": [
    "- 이정도는 도메인 지식으로 채워넣어줄 수 있지 않을까?"
   ]
  },
  {
   "cell_type": "markdown",
   "metadata": {},
   "source": [
    "### codi-top"
   ]
  },
  {
   "cell_type": "code",
   "execution_count": 101,
   "metadata": {},
   "outputs": [],
   "source": [
    "top_set = get_sorted_set('codi-top')"
   ]
  },
  {
   "cell_type": "markdown",
   "metadata": {},
   "source": [
    "도메인 지식 없는 내가 보기에는 별 특별한 데이터 없어보임  \n",
    "종종 한 글자가 나오긴 함  \n",
    "':'도 있음"
   ]
  },
  {
   "cell_type": "code",
   "execution_count": 27,
   "metadata": {},
   "outputs": [
    {
     "data": {
      "text/plain": [
       "array([], dtype=object)"
      ]
     },
     "execution_count": 27,
     "metadata": {},
     "output_type": "execute_result"
    }
   ],
   "source": [
    "data['codi-top'][data['codi-top'].str.find('#')!=-1].unique()"
   ]
  },
  {
   "cell_type": "markdown",
   "metadata": {},
   "source": [
    "### codi-bottom"
   ]
  },
  {
   "cell_type": "code",
   "execution_count": 102,
   "metadata": {},
   "outputs": [],
   "source": [
    "bottom_set = get_sorted_set('codi-bottom')"
   ]
  },
  {
   "cell_type": "markdown",
   "metadata": {},
   "source": [
    "대부분이 -라서 그런지 종류가 엄청 없고 이상치도 없어보임  \n",
    "팬츠는 붙여 쓰고 하의는 띄어쓴다는게 발견한 점  \n",
    "여기에도 ':'가 있음 왜 붙은건지 한번 확인해봐도 될듯"
   ]
  },
  {
   "cell_type": "code",
   "execution_count": 28,
   "metadata": {},
   "outputs": [
    {
     "data": {
      "text/plain": [
       "array([], dtype=object)"
      ]
     },
     "execution_count": 28,
     "metadata": {},
     "output_type": "execute_result"
    }
   ],
   "source": [
    "data['codi-bottom'][data['codi-bottom'].str.find('#')!=-1].unique()"
   ]
  },
  {
   "cell_type": "markdown",
   "metadata": {},
   "source": [
    "### codi-shoes"
   ]
  },
  {
   "cell_type": "code",
   "execution_count": 103,
   "metadata": {},
   "outputs": [],
   "source": [
    "shoes_set = get_sorted_set('codi-shoes')"
   ]
  },
  {
   "cell_type": "markdown",
   "metadata": {},
   "source": [
    "여기도 -가 많음  \n",
    "여기는 !가 떨어져서 있음 ''도 존재함"
   ]
  },
  {
   "cell_type": "code",
   "execution_count": 29,
   "metadata": {},
   "outputs": [
    {
     "data": {
      "text/plain": [
       "array([], dtype=object)"
      ]
     },
     "execution_count": 29,
     "metadata": {},
     "output_type": "execute_result"
    }
   ],
   "source": [
    "data['codi-shoes'][data['codi-shoes'].str.find('#')!=-1].unique()"
   ]
  },
  {
   "cell_type": "markdown",
   "metadata": {},
   "source": [
    "### codi-weapons"
   ]
  },
  {
   "cell_type": "code",
   "execution_count": 104,
   "metadata": {},
   "outputs": [],
   "source": [
    "weapon_set = get_sorted_set('codi-weapon')"
   ]
  },
  {
   "cell_type": "markdown",
   "metadata": {},
   "source": [
    "-가 많음  \n",
    "여기에도 New가 존재함  "
   ]
  },
  {
   "cell_type": "code",
   "execution_count": 106,
   "metadata": {},
   "outputs": [
    {
     "data": {
      "text/plain": [
       "array(['#1482227'], dtype=object)"
      ]
     },
     "execution_count": 106,
     "metadata": {},
     "output_type": "execute_result"
    }
   ],
   "source": [
    "data['codi-weapon'][data['codi-weapon'].str.find('#')!=-1].unique()"
   ]
  },
  {
   "cell_type": "markdown",
   "metadata": {},
   "source": [
    "- 얘 하나만 에러 데이터임"
   ]
  },
  {
   "cell_type": "markdown",
   "metadata": {},
   "source": [
    "### Numeric 이상치 확인"
   ]
  },
  {
   "cell_type": "markdown",
   "metadata": {},
   "source": [
    "#### Level"
   ]
  },
  {
   "cell_type": "code",
   "execution_count": 32,
   "metadata": {},
   "outputs": [
    {
     "data": {
      "text/plain": [
       "count    1.160000e+06\n",
       "mean     2.507772e+02\n",
       "std      1.098594e+01\n",
       "min      1.000000e+01\n",
       "25%      2.410000e+02\n",
       "50%      2.500000e+02\n",
       "75%      2.570000e+02\n",
       "max      2.920000e+02\n",
       "Name: level, dtype: float64"
      ]
     },
     "execution_count": 32,
     "metadata": {},
     "output_type": "execute_result"
    }
   ],
   "source": [
    "data['level'].describe()"
   ]
  },
  {
   "cell_type": "code",
   "execution_count": 43,
   "metadata": {},
   "outputs": [
    {
     "data": {
      "text/html": [
       "<div>\n",
       "<style scoped>\n",
       "    .dataframe tbody tr th:only-of-type {\n",
       "        vertical-align: middle;\n",
       "    }\n",
       "\n",
       "    .dataframe tbody tr th {\n",
       "        vertical-align: top;\n",
       "    }\n",
       "\n",
       "    .dataframe thead th {\n",
       "        text-align: right;\n",
       "    }\n",
       "</style>\n",
       "<table border=\"1\" class=\"dataframe\">\n",
       "  <thead>\n",
       "    <tr style=\"text-align: right;\">\n",
       "      <th></th>\n",
       "      <th>level</th>\n",
       "      <th>total_ranking</th>\n",
       "    </tr>\n",
       "  </thead>\n",
       "  <tbody>\n",
       "    <tr>\n",
       "      <th>115726</th>\n",
       "      <td>229</td>\n",
       "      <td>805726</td>\n",
       "    </tr>\n",
       "    <tr>\n",
       "      <th>260261</th>\n",
       "      <td>211</td>\n",
       "      <td>240258</td>\n",
       "    </tr>\n",
       "    <tr>\n",
       "      <th>494167</th>\n",
       "      <td>226</td>\n",
       "      <td>1298330</td>\n",
       "    </tr>\n",
       "    <tr>\n",
       "      <th>499710</th>\n",
       "      <td>10</td>\n",
       "      <td>59598739</td>\n",
       "    </tr>\n",
       "    <tr>\n",
       "      <th>501263</th>\n",
       "      <td>217</td>\n",
       "      <td>2555981</td>\n",
       "    </tr>\n",
       "    <tr>\n",
       "      <th>510635</th>\n",
       "      <td>217</td>\n",
       "      <td>2484702</td>\n",
       "    </tr>\n",
       "    <tr>\n",
       "      <th>523666</th>\n",
       "      <td>181</td>\n",
       "      <td>54621879</td>\n",
       "    </tr>\n",
       "    <tr>\n",
       "      <th>618697</th>\n",
       "      <td>10</td>\n",
       "      <td>189459</td>\n",
       "    </tr>\n",
       "    <tr>\n",
       "      <th>627482</th>\n",
       "      <td>226</td>\n",
       "      <td>1334042</td>\n",
       "    </tr>\n",
       "    <tr>\n",
       "      <th>650325</th>\n",
       "      <td>205</td>\n",
       "      <td>566878</td>\n",
       "    </tr>\n",
       "    <tr>\n",
       "      <th>651996</th>\n",
       "      <td>208</td>\n",
       "      <td>510819</td>\n",
       "    </tr>\n",
       "    <tr>\n",
       "      <th>657921</th>\n",
       "      <td>10</td>\n",
       "      <td>59518415</td>\n",
       "    </tr>\n",
       "    <tr>\n",
       "      <th>660261</th>\n",
       "      <td>220</td>\n",
       "      <td>2104513</td>\n",
       "    </tr>\n",
       "    <tr>\n",
       "      <th>725394</th>\n",
       "      <td>217</td>\n",
       "      <td>354566</td>\n",
       "    </tr>\n",
       "    <tr>\n",
       "      <th>736101</th>\n",
       "      <td>31</td>\n",
       "      <td>57898632</td>\n",
       "    </tr>\n",
       "  </tbody>\n",
       "</table>\n",
       "</div>"
      ],
      "text/plain": [
       "        level  total_ranking\n",
       "115726    229         805726\n",
       "260261    211         240258\n",
       "494167    226        1298330\n",
       "499710     10       59598739\n",
       "501263    217        2555981\n",
       "510635    217        2484702\n",
       "523666    181       54621879\n",
       "618697     10         189459\n",
       "627482    226        1334042\n",
       "650325    205         566878\n",
       "651996    208         510819\n",
       "657921     10       59518415\n",
       "660261    220        2104513\n",
       "725394    217         354566\n",
       "736101     31       57898632"
      ]
     },
     "execution_count": 43,
     "metadata": {},
     "output_type": "execute_result"
    }
   ],
   "source": [
    "data[data['level']<230][['level', 'total_ranking']]"
   ]
  },
  {
   "cell_type": "markdown",
   "metadata": {},
   "source": [
    "- 레벨이랑 랭킹이 너무 낮은 애들이 긁혀 있음\n",
    "- info와 detail 크롤링 사이의 시점이 달라서 생기는 문제로 크롤링 자체는 맞게 긁혔음"
   ]
  },
  {
   "cell_type": "code",
   "execution_count": 37,
   "metadata": {},
   "outputs": [],
   "source": [
    "for date in date_columns:\n",
    "    data[date] = pd.to_datetime(data[date], format='%Y-%m-%d')"
   ]
  },
  {
   "cell_type": "code",
   "execution_count": 58,
   "metadata": {},
   "outputs": [
    {
     "data": {
      "text/plain": [
       "(Timedelta('107 days 02:42:09.788379152'), Timedelta('5 days 00:00:00'))"
      ]
     },
     "execution_count": 58,
     "metadata": {},
     "output_type": "execute_result"
    }
   ],
   "source": [
    "recent_past = data['past_chr_date_1'] - data['past_chr_date_6']\n",
    "np.mean(recent_past), np.max(recent_past), np.min(recent_past)\n",
    "# -인 애들을 제외하고 보기\n",
    "recent_past_index = recent_past.apply(lambda x : int(str(x).split(' ')[0]))>0\n",
    "np.mean(recent_past[recent_past_index]), np.min(recent_past[recent_past_index])"
   ]
  },
  {
   "cell_type": "code",
   "execution_count": null,
   "metadata": {},
   "outputs": [],
   "source": []
  },
  {
   "cell_type": "code",
   "execution_count": null,
   "metadata": {},
   "outputs": [],
   "source": [
    "data_1['past_chr_date_1'] - data_1['past_chr_date_6']"
   ]
  }
 ],
 "metadata": {
  "kernelspec": {
   "display_name": "Python 3 (ipykernel)",
   "language": "python",
   "name": "python3"
  },
  "language_info": {
   "codemirror_mode": {
    "name": "ipython",
    "version": 3
   },
   "file_extension": ".py",
   "mimetype": "text/x-python",
   "name": "python",
   "nbconvert_exporter": "python",
   "pygments_lexer": "ipython3",
   "version": "3.8.15"
  },
  "vscode": {
   "interpreter": {
    "hash": "d4d1e4263499bec80672ea0156c357c1ee493ec2b1c70f0acce89fc37c4a6abe"
   }
  }
 },
 "nbformat": 4,
 "nbformat_minor": 4
}
