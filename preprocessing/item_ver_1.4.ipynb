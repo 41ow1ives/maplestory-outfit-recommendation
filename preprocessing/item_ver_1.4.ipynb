{
 "cells": [
  {
   "cell_type": "code",
   "execution_count": 10,
   "metadata": {},
   "outputs": [],
   "source": [
    "import sys\n",
    "import os\n",
    "sys.path.append(os.path.dirname(os.path.abspath(\".\")))\n",
    "\n",
    "import pandas as pd\n",
    "from utils import GCSHelper\n",
    "gcs_helper_preprocessed = GCSHelper(\"../keys/gcs_key.json\", bucket_name=\"maple_preprocessed_data\")\n"
   ]
  },
  {
   "cell_type": "code",
   "execution_count": 11,
   "metadata": {},
   "outputs": [],
   "source": [
    "data = gcs_helper_preprocessed.read_df_from_gcs(\"item_KMST_1149_VER1.3.csv\")\n",
    "\n",
    "# is cash 컬럼 bool에서 0 1 int로 변경\n",
    "data[\"isCash\"] = data[\"isCash\"].apply(int)\n",
    "\n",
    "# column 이름 snake_case 로 통일\n",
    "rename_dict = {k:v for k, v in zip(data.columns,['required_jobs', 'required_level', 'required_gender', 'is_cash', 'desc',\n",
    "       'item_id', 'name', 'overall_category', 'category', 'sub_category', 'low_item_id',\n",
    "       'high_item_id', 'image_url', 'gcs_image_url', 'name_processed',\n",
    "       'equip_category'])}\n",
    "data = data.rename(columns=rename_dict)"
   ]
  },
  {
   "cell_type": "code",
   "execution_count": 12,
   "metadata": {},
   "outputs": [],
   "source": [
    "gcs_helper_preprocessed.upload_df_to_gcs(\"item_KMST_1149_VER1.4.csv\", data)\n",
    "gcs_helper_preprocessed.upload_df_to_gcs(\"item_KMST_1149_latest.csv\", data)"
   ]
  }
 ],
 "metadata": {
  "kernelspec": {
   "display_name": "maple-project-TvhCNGkp-py3.8",
   "language": "python",
   "name": "python3"
  },
  "language_info": {
   "codemirror_mode": {
    "name": "ipython",
    "version": 3
   },
   "file_extension": ".py",
   "mimetype": "text/x-python",
   "name": "python",
   "nbconvert_exporter": "python",
   "pygments_lexer": "ipython3",
   "version": "3.8.15 (default, Jan 14 2023, 20:02:06) \n[GCC 7.5.0]"
  },
  "orig_nbformat": 4,
  "vscode": {
   "interpreter": {
    "hash": "6742150a18e3b067bc8ee708e6344dd27b020006aa64fa524d66282649c9a517"
   }
  }
 },
 "nbformat": 4,
 "nbformat_minor": 2
}
